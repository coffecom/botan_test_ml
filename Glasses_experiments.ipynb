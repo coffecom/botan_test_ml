{
  "nbformat": 4,
  "nbformat_minor": 0,
  "metadata": {
    "colab": {
      "name": "Untitled2.ipynb",
      "provenance": [],
      "collapsed_sections": []
    },
    "kernelspec": {
      "name": "python3",
      "display_name": "Python 3"
    },
    "accelerator": "GPU"
  },
  "cells": [
    {
      "cell_type": "code",
      "metadata": {
        "id": "PjW5I4lzQ4cF",
        "colab_type": "code",
        "colab": {}
      },
      "source": [
        "import torch\n",
        "import torch.nn as nn\n",
        "import torch.optim as optim\n",
        "import torch.utils.data\n",
        "import torchvision.datasets as dset\n",
        "import torchvision.transforms as transforms\n",
        "import matplotlib.pyplot as plt\n",
        "import numpy as np"
      ],
      "execution_count": 0,
      "outputs": []
    },
    {
      "cell_type": "code",
      "metadata": {
        "id": "U9RzvuhAul-G",
        "colab_type": "code",
        "colab": {}
      },
      "source": [
        "!unzip glasses.zip"
      ],
      "execution_count": 0,
      "outputs": []
    },
    {
      "cell_type": "code",
      "metadata": {
        "id": "HjcUZYnjUk-p",
        "colab_type": "code",
        "colab": {
          "base_uri": "https://localhost:8080/",
          "height": 35
        },
        "outputId": "dc73d2a0-11a9-410d-b99e-89f8e5eece8e"
      },
      "source": [
        "image_size = 64\n",
        "if torch.cuda.is_available(): device = 'cuda'\n",
        "else: device = 'cpu'\n",
        "# device = 'cpu'\n",
        "train_path = '/content/glasses/train'\n",
        "test_path = '/content/glasses/test'\n",
        "num_classes = 2\n",
        "device"
      ],
      "execution_count": 74,
      "outputs": [
        {
          "output_type": "execute_result",
          "data": {
            "text/plain": [
              "'cuda'"
            ]
          },
          "metadata": {
            "tags": []
          },
          "execution_count": 74
        }
      ]
    },
    {
      "cell_type": "code",
      "metadata": {
        "id": "vcAQ_m4gTI6H",
        "colab_type": "code",
        "colab": {
          "base_uri": "https://localhost:8080/",
          "height": 426
        },
        "outputId": "3350e0db-f926-4e94-c4d8-4f2bd4fb2477"
      },
      "source": [
        "def load_dataset(path):\n",
        "    data_path = path\n",
        "    train_dataset = dset.ImageFolder(\n",
        "        root=data_path,\n",
        "        transform=transforms.Compose([\n",
        "          transforms.Resize(image_size),\n",
        "          transforms.CenterCrop(image_size),\n",
        "          transforms.ToTensor()                                      \n",
        "        ]),\n",
        "        # target_transform = lambda x: x-1\n",
        "    )\n",
        "    # train_dataset.class_to_idx['0'] = 0\n",
        "    # train_dataset.class_to_idx['1'] = 1\n",
        "    # print(train_dataset.class_to_idx)\n",
        "    train_loader = torch.utils.data.DataLoader(\n",
        "        train_dataset,\n",
        "        batch_size=32,\n",
        "        num_workers=0,\n",
        "        shuffle=True\n",
        "    )\n",
        "    # print(train_loader.class_to_idx)\n",
        "    return train_loader\n",
        "\n",
        "\n",
        "for i, (x, y) in enumerate(load_dataset(train_path)):\n",
        "    if i == 10:\n",
        "        break\n",
        "    _image = np.array(x[0])\n",
        "    image = torch.from_numpy(_image)\n",
        "    image = image.permute(1,2,0)\n",
        "    plt.subplot(1, 10, i+1)\n",
        "    plt.grid(False)\n",
        "    plt.imshow(image)\n",
        "    plt.axis('off')\n",
        "    print(y)"
      ],
      "execution_count": 75,
      "outputs": [
        {
          "output_type": "stream",
          "text": [
            "tensor([1, 0, 1, 0, 1, 1, 1, 1, 1, 1, 1, 1, 1, 1, 1, 1, 1, 0, 1, 1, 1, 1, 1, 0,\n",
            "        1, 1, 0, 1, 1, 0, 0, 1])\n",
            "tensor([0, 1, 0, 1, 1, 1, 1, 0, 0, 1, 1, 0, 1, 1, 1, 0, 1, 0, 1, 1, 1, 1, 1, 0,\n",
            "        1, 0, 1, 1, 1, 0, 0, 0])\n",
            "tensor([0, 1, 1, 1, 1, 1, 0, 1, 1, 1, 1, 1, 1, 0, 1, 0, 0, 1, 1, 1, 1, 1, 1, 1,\n",
            "        1, 1, 0, 0, 1, 1, 0, 1])\n",
            "tensor([0, 0, 1, 1, 1, 1, 1, 0, 1, 0, 1, 1, 1, 1, 0, 1, 1, 0, 1, 1, 0, 1, 1, 1,\n",
            "        0, 0, 1, 0, 1, 1, 0, 0])\n",
            "tensor([0, 0, 0, 1, 1, 1, 0, 1, 1, 1, 0, 1, 1, 1, 1, 0, 0, 1, 0, 1, 0, 0, 1, 0,\n",
            "        1, 0, 1, 0, 1, 0, 0, 1])\n",
            "tensor([1, 0, 1, 1, 0, 0, 0, 1, 1, 1, 0, 1, 1, 0, 0, 0, 1, 0, 1, 1, 1, 1, 1, 1,\n",
            "        0, 0, 0, 1, 0, 0, 0, 1])\n",
            "tensor([0, 1, 1, 1, 1, 1, 0, 1, 0, 0, 1, 1, 1, 1, 1, 1, 0, 1, 1, 1, 0, 1, 1, 1,\n",
            "        0, 1, 1, 1, 0, 1, 1, 0])\n",
            "tensor([0, 0, 0, 1, 1, 1, 0, 1, 1, 0, 1, 1, 1, 1, 1, 1, 1, 1, 1, 0, 1, 1, 1, 0,\n",
            "        1, 0, 1, 1, 1, 1, 1, 1])\n",
            "tensor([1, 0, 0, 1, 0, 1, 1, 1, 1, 1, 0, 1, 0, 1, 0, 1, 1, 1, 1, 0, 1, 1, 0, 1,\n",
            "        1, 0, 1, 1, 0, 0, 0, 1])\n",
            "tensor([1, 1, 1, 1, 1, 1, 0, 1, 1, 0, 1, 0, 0, 1, 1, 0, 0, 1, 1, 1, 1, 1, 1, 1,\n",
            "        0, 0, 1, 0, 0, 1, 1, 0])\n"
          ],
          "name": "stdout"
        },
        {
          "output_type": "display_data",
          "data": {
            "image/png": "[encoded data removed]",
            "text/plain": [
              "<Figure size 432x288 with 10 Axes>"
            ]
          },
          "metadata": {
            "tags": []
          }
        }
      ]
    },
    {
      "cell_type": "code",
      "metadata": {
        "id": "kuYmGCi5X8QN",
        "colab_type": "code",
        "colab": {}
      },
      "source": [
        "def compute_accuracy(model, loader):\n",
        "    model.eval() \n",
        "    correct = 0\n",
        "    total = 0\n",
        "    \n",
        "    for x, y in loader:\n",
        "      x_cuda = x.to(device)\n",
        "      y_cuda = y.to(device)  \n",
        "      pred = model(x_cuda)\n",
        "\n",
        "      _, indices = torch.max(pred, 1)\n",
        "      correct += torch.sum(indices == y_cuda)\n",
        "      total += y_cuda.shape[0]  \n",
        "\n",
        "    return float(correct)/total\n",
        "\n",
        "def train_model(model, train_loader, val_loader, loss, optimizer, num_epochs):\n",
        "    loss_history = []\n",
        "    train_history = []\n",
        "    val_history = []\n",
        "    for epoch in range(num_epochs):\n",
        "        model.train() \n",
        "        \n",
        "        loss_accum = 0\n",
        "        correct_samples = 0\n",
        "        total_samples = 0\n",
        "        for i_step, (x, y) in enumerate(train_loader):\n",
        "          \n",
        "            x_gpu = x.to(device)\n",
        "            y_gpu = y.to(device)\n",
        "            prediction = model(x_gpu)    \n",
        "            loss_value = loss(prediction, y_gpu)\n",
        "            optimizer.zero_grad()\n",
        "            loss_value.backward()\n",
        "            optimizer.step()\n",
        "            \n",
        "            _, indices = torch.max(prediction, 1)\n",
        "            correct_samples += torch.sum(indices == y_gpu)\n",
        "            total_samples += y.shape[0]\n",
        "            \n",
        "            loss_accum += loss_value\n",
        "\n",
        "        ave_loss = loss_accum / i_step\n",
        "        train_accuracy = float(correct_samples) / total_samples\n",
        "        val_accuracy = compute_accuracy(model, val_loader)\n",
        "        \n",
        "        loss_history.append(float(ave_loss))\n",
        "        train_history.append(train_accuracy)\n",
        "        val_history.append(val_accuracy)\n",
        "        \n",
        "        print(\"Epoch:\", epoch, \"loss: %f, Train accuracy: %f, Val accuracy: %f\" % (ave_loss, train_accuracy, val_accuracy))\n",
        "        \n",
        "    return loss_history, train_history, val_history\n"
      ],
      "execution_count": 0,
      "outputs": []
    },
    {
      "cell_type": "code",
      "metadata": {
        "id": "RtxuxZFtWEbk",
        "colab_type": "code",
        "colab": {
          "base_uri": "https://localhost:8080/",
          "height": 366
        },
        "outputId": "6b12fe1c-df0d-4a4e-e122-6d80d9ca8241"
      },
      "source": [
        "class Flattener(nn.Module):\n",
        "    def forward(self, x):\n",
        "        batch_size, *_ = x.shape\n",
        "        return x.view(batch_size, -1)\n",
        "\n",
        "glasses_classificator = nn.Sequential(\n",
        "        nn.Conv2d(3,6,5),\n",
        "        nn.ReLU(),\n",
        "        nn.MaxPool2d(2,2),\n",
        "        nn.Conv2d(6,16,5),\n",
        "        nn.ReLU(),\n",
        "        nn.MaxPool2d(2,2),\n",
        "\n",
        "        nn.Conv2d(16,32,5),\n",
        "        nn.ReLU(),\n",
        "        nn.MaxPool2d(2,2),\n",
        "\n",
        "        Flattener(),\n",
        "\n",
        "        nn.Dropout(),\n",
        "        nn.Linear(512,120),\n",
        "        nn.ReLU(),\n",
        "        nn.Dropout(),\n",
        "\n",
        "        nn.Linear(120,84),\n",
        "        nn.ReLU(),\n",
        "        nn.Linear(84,2)\n",
        ")\n",
        "glasses_classificator.type(torch.cuda.FloatTensor)\n",
        "glasses_classificator.to(device)"
      ],
      "execution_count": 92,
      "outputs": [
        {
          "output_type": "execute_result",
          "data": {
            "text/plain": [
              "Sequential(\n",
              "  (0): Conv2d(3, 6, kernel_size=(5, 5), stride=(1, 1))\n",
              "  (1): ReLU()\n",
              "  (2): MaxPool2d(kernel_size=2, stride=2, padding=0, dilation=1, ceil_mode=False)\n",
              "  (3): Conv2d(6, 16, kernel_size=(5, 5), stride=(1, 1))\n",
              "  (4): ReLU()\n",
              "  (5): MaxPool2d(kernel_size=2, stride=2, padding=0, dilation=1, ceil_mode=False)\n",
              "  (6): Conv2d(16, 32, kernel_size=(5, 5), stride=(1, 1))\n",
              "  (7): ReLU()\n",
              "  (8): MaxPool2d(kernel_size=2, stride=2, padding=0, dilation=1, ceil_mode=False)\n",
              "  (9): Flattener()\n",
              "  (10): Dropout(p=0.5, inplace=False)\n",
              "  (11): Linear(in_features=512, out_features=120, bias=True)\n",
              "  (12): ReLU()\n",
              "  (13): Dropout(p=0.5, inplace=False)\n",
              "  (14): Linear(in_features=120, out_features=84, bias=True)\n",
              "  (15): ReLU()\n",
              "  (16): Linear(in_features=84, out_features=2, bias=True)\n",
              ")"
            ]
          },
          "metadata": {
            "tags": []
          },
          "execution_count": 92
        }
      ]
    },
    {
      "cell_type": "code",
      "metadata": {
        "id": "pV4eED5nYh7c",
        "colab_type": "code",
        "colab": {
          "base_uri": "https://localhost:8080/",
          "height": 1000
        },
        "outputId": "6032fa71-0c72-481b-d89c-ca7803803281"
      },
      "source": [
        "loss = nn.CrossEntropyLoss().type(torch.cuda.FloatTensor)\n",
        "optimizer = optim.Adam(glasses_classificator.parameters(), lr=1e-4)\n",
        "\n",
        "loss_history, train_history, val_history = train_model(glasses_classificator, load_dataset(train_path), load_dataset(test_path), loss, optimizer, 100)"
      ],
      "execution_count": 93,
      "outputs": [
        {
          "output_type": "stream",
          "text": [
            "Epoch: 0 loss: 0.687381, Train accuracy: 0.540892, Val accuracy: 0.520249\n",
            "Epoch: 1 loss: 0.665930, Train accuracy: 0.617897, Val accuracy: 0.520249\n",
            "Epoch: 2 loss: 0.646237, Train accuracy: 0.621083, Val accuracy: 0.568017\n",
            "Epoch: 3 loss: 0.598597, Train accuracy: 0.672862, Val accuracy: 0.723780\n",
            "Epoch: 4 loss: 0.553743, Train accuracy: 0.729156, Val accuracy: 0.680166\n",
            "Epoch: 5 loss: 0.533642, Train accuracy: 0.747743, Val accuracy: 0.785047\n",
            "Epoch: 6 loss: 0.508595, Train accuracy: 0.753585, Val accuracy: 0.727934\n",
            "Epoch: 7 loss: 0.497484, Train accuracy: 0.768455, Val accuracy: 0.802700\n",
            "Epoch: 8 loss: 0.474839, Train accuracy: 0.779607, Val accuracy: 0.805815\n",
            "Epoch: 9 loss: 0.456381, Train accuracy: 0.799257, Val accuracy: 0.803738\n",
            "Epoch: 10 loss: 0.446887, Train accuracy: 0.809347, Val accuracy: 0.805815\n",
            "Epoch: 11 loss: 0.439535, Train accuracy: 0.806160, Val accuracy: 0.801661\n",
            "Epoch: 12 loss: 0.436154, Train accuracy: 0.814126, Val accuracy: 0.815161\n",
            "Epoch: 13 loss: 0.416922, Train accuracy: 0.820499, Val accuracy: 0.823468\n",
            "Epoch: 14 loss: 0.416357, Train accuracy: 0.825810, Val accuracy: 0.800623\n",
            "Epoch: 15 loss: 0.403885, Train accuracy: 0.830058, Val accuracy: 0.811007\n",
            "Epoch: 16 loss: 0.395012, Train accuracy: 0.833510, Val accuracy: 0.842160\n",
            "Epoch: 17 loss: 0.391503, Train accuracy: 0.830589, Val accuracy: 0.843198\n",
            "Epoch: 18 loss: 0.380937, Train accuracy: 0.849973, Val accuracy: 0.822430\n",
            "Epoch: 19 loss: 0.372779, Train accuracy: 0.852894, Val accuracy: 0.849429\n",
            "Epoch: 20 loss: 0.364946, Train accuracy: 0.852363, Val accuracy: 0.852544\n",
            "Epoch: 21 loss: 0.365031, Train accuracy: 0.852098, Val accuracy: 0.859813\n",
            "Epoch: 22 loss: 0.353765, Train accuracy: 0.855550, Val accuracy: 0.858775\n",
            "Epoch: 23 loss: 0.354764, Train accuracy: 0.855019, Val accuracy: 0.842160\n",
            "Epoch: 24 loss: 0.339389, Train accuracy: 0.867499, Val accuracy: 0.860852\n",
            "Epoch: 25 loss: 0.334763, Train accuracy: 0.866437, Val accuracy: 0.873313\n",
            "Epoch: 26 loss: 0.337552, Train accuracy: 0.871482, Val accuracy: 0.872274\n",
            "Epoch: 27 loss: 0.314911, Train accuracy: 0.877058, Val accuracy: 0.876428\n",
            "Epoch: 28 loss: 0.319612, Train accuracy: 0.869888, Val accuracy: 0.875389\n",
            "Epoch: 29 loss: 0.316386, Train accuracy: 0.878120, Val accuracy: 0.859813\n",
            "Epoch: 30 loss: 0.305599, Train accuracy: 0.882103, Val accuracy: 0.883697\n",
            "Epoch: 31 loss: 0.295213, Train accuracy: 0.892459, Val accuracy: 0.861890\n",
            "Epoch: 32 loss: 0.304299, Train accuracy: 0.879182, Val accuracy: 0.885774\n",
            "Epoch: 33 loss: 0.288240, Train accuracy: 0.889007, Val accuracy: 0.883697\n",
            "Epoch: 34 loss: 0.284038, Train accuracy: 0.892459, Val accuracy: 0.885774\n",
            "Epoch: 35 loss: 0.275865, Train accuracy: 0.893255, Val accuracy: 0.885774\n",
            "Epoch: 36 loss: 0.274964, Train accuracy: 0.893787, Val accuracy: 0.888889\n",
            "Epoch: 37 loss: 0.270345, Train accuracy: 0.894583, Val accuracy: 0.893043\n",
            "Epoch: 38 loss: 0.265011, Train accuracy: 0.896973, Val accuracy: 0.892004\n",
            "Epoch: 39 loss: 0.270895, Train accuracy: 0.900159, Val accuracy: 0.898235\n",
            "Epoch: 40 loss: 0.264196, Train accuracy: 0.898566, Val accuracy: 0.900312\n",
            "Epoch: 41 loss: 0.250958, Train accuracy: 0.904939, Val accuracy: 0.900312\n",
            "Epoch: 42 loss: 0.254273, Train accuracy: 0.900425, Val accuracy: 0.886812\n",
            "Epoch: 43 loss: 0.248701, Train accuracy: 0.905470, Val accuracy: 0.904465\n",
            "Epoch: 44 loss: 0.245730, Train accuracy: 0.904408, Val accuracy: 0.896158\n",
            "Epoch: 45 loss: 0.246554, Train accuracy: 0.911312, Val accuracy: 0.900312\n",
            "Epoch: 46 loss: 0.242628, Train accuracy: 0.907329, Val accuracy: 0.906542\n",
            "Epoch: 47 loss: 0.235542, Train accuracy: 0.914764, Val accuracy: 0.897196\n",
            "Epoch: 48 loss: 0.235356, Train accuracy: 0.911843, Val accuracy: 0.903427\n",
            "Epoch: 49 loss: 0.233250, Train accuracy: 0.911577, Val accuracy: 0.903427\n",
            "Epoch: 50 loss: 0.227174, Train accuracy: 0.915029, Val accuracy: 0.905504\n",
            "Epoch: 51 loss: 0.219194, Train accuracy: 0.916622, Val accuracy: 0.899273\n",
            "Epoch: 52 loss: 0.222808, Train accuracy: 0.914764, Val accuracy: 0.905504\n",
            "Epoch: 53 loss: 0.221621, Train accuracy: 0.917950, Val accuracy: 0.885774\n",
            "Epoch: 54 loss: 0.213849, Train accuracy: 0.919543, Val accuracy: 0.906542\n",
            "Epoch: 55 loss: 0.213528, Train accuracy: 0.922995, Val accuracy: 0.899273\n",
            "Epoch: 56 loss: 0.207371, Train accuracy: 0.924588, Val accuracy: 0.903427\n",
            "Epoch: 57 loss: 0.214382, Train accuracy: 0.919809, Val accuracy: 0.885774\n",
            "Epoch: 58 loss: 0.211489, Train accuracy: 0.920340, Val accuracy: 0.900312\n",
            "Epoch: 59 loss: 0.198461, Train accuracy: 0.929102, Val accuracy: 0.907580\n",
            "Epoch: 60 loss: 0.212282, Train accuracy: 0.921402, Val accuracy: 0.892004\n",
            "Epoch: 61 loss: 0.193486, Train accuracy: 0.932289, Val accuracy: 0.907580\n",
            "Epoch: 62 loss: 0.188325, Train accuracy: 0.931227, Val accuracy: 0.907580\n",
            "Epoch: 63 loss: 0.195345, Train accuracy: 0.927509, Val accuracy: 0.906542\n",
            "Epoch: 64 loss: 0.192819, Train accuracy: 0.928837, Val accuracy: 0.904465\n",
            "Epoch: 65 loss: 0.184888, Train accuracy: 0.934413, Val accuracy: 0.900312\n",
            "Epoch: 66 loss: 0.190767, Train accuracy: 0.930961, Val accuracy: 0.905504\n",
            "Epoch: 67 loss: 0.179883, Train accuracy: 0.936272, Val accuracy: 0.900312\n",
            "Epoch: 68 loss: 0.185138, Train accuracy: 0.932023, Val accuracy: 0.904465\n",
            "Epoch: 69 loss: 0.181859, Train accuracy: 0.935741, Val accuracy: 0.904465\n",
            "Epoch: 70 loss: 0.181868, Train accuracy: 0.931227, Val accuracy: 0.909657\n",
            "Epoch: 71 loss: 0.183676, Train accuracy: 0.932023, Val accuracy: 0.909657\n",
            "Epoch: 72 loss: 0.168763, Train accuracy: 0.939193, Val accuracy: 0.906542\n",
            "Epoch: 73 loss: 0.172430, Train accuracy: 0.938396, Val accuracy: 0.904465\n",
            "Epoch: 74 loss: 0.167334, Train accuracy: 0.941052, Val accuracy: 0.904465\n",
            "Epoch: 75 loss: 0.166670, Train accuracy: 0.940255, Val accuracy: 0.901350\n",
            "Epoch: 76 loss: 0.167730, Train accuracy: 0.941052, Val accuracy: 0.904465\n",
            "Epoch: 77 loss: 0.158579, Train accuracy: 0.942645, Val accuracy: 0.909657\n",
            "Epoch: 78 loss: 0.160341, Train accuracy: 0.940255, Val accuracy: 0.902388\n",
            "Epoch: 79 loss: 0.161773, Train accuracy: 0.943972, Val accuracy: 0.901350\n",
            "Epoch: 80 loss: 0.151892, Train accuracy: 0.945035, Val accuracy: 0.909657\n",
            "Epoch: 81 loss: 0.163875, Train accuracy: 0.939458, Val accuracy: 0.902388\n",
            "Epoch: 82 loss: 0.149279, Train accuracy: 0.945831, Val accuracy: 0.897196\n",
            "Epoch: 83 loss: 0.148772, Train accuracy: 0.946628, Val accuracy: 0.912773\n",
            "Epoch: 84 loss: 0.151975, Train accuracy: 0.946628, Val accuracy: 0.913811\n",
            "Epoch: 85 loss: 0.144701, Train accuracy: 0.949814, Val accuracy: 0.915888\n",
            "Epoch: 86 loss: 0.148151, Train accuracy: 0.947955, Val accuracy: 0.908619\n",
            "Epoch: 87 loss: 0.147686, Train accuracy: 0.945831, Val accuracy: 0.911734\n",
            "Epoch: 88 loss: 0.140776, Train accuracy: 0.946097, Val accuracy: 0.905504\n",
            "Epoch: 89 loss: 0.130881, Train accuracy: 0.953797, Val accuracy: 0.911734\n",
            "Epoch: 90 loss: 0.138073, Train accuracy: 0.950080, Val accuracy: 0.907580\n",
            "Epoch: 91 loss: 0.140367, Train accuracy: 0.951673, Val accuracy: 0.911734\n",
            "Epoch: 92 loss: 0.139472, Train accuracy: 0.951407, Val accuracy: 0.908619\n",
            "Epoch: 93 loss: 0.129042, Train accuracy: 0.958311, Val accuracy: 0.908619\n",
            "Epoch: 94 loss: 0.129633, Train accuracy: 0.955125, Val accuracy: 0.907580\n",
            "Epoch: 95 loss: 0.132187, Train accuracy: 0.954063, Val accuracy: 0.913811\n",
            "Epoch: 96 loss: 0.129940, Train accuracy: 0.957249, Val accuracy: 0.913811\n",
            "Epoch: 97 loss: 0.132902, Train accuracy: 0.951673, Val accuracy: 0.902388\n",
            "Epoch: 98 loss: 0.119537, Train accuracy: 0.957780, Val accuracy: 0.908619\n",
            "Epoch: 99 loss: 0.135966, Train accuracy: 0.952469, Val accuracy: 0.910696\n"
          ],
          "name": "stdout"
        }
      ]
    },
    {
      "cell_type": "code",
      "metadata": {
        "id": "mZ47nbu7J88Q",
        "colab_type": "code",
        "colab": {
          "base_uri": "https://localhost:8080/",
          "height": 265
        },
        "outputId": "29affa76-41eb-46b2-f5b5-4dadc8d1ad89"
      },
      "source": [
        "plt.plot(val_history)\n",
        "plt.plot(train_history, color='r')\n",
        "plt.show()"
      ],
      "execution_count": 94,
      "outputs": [
        {
          "output_type": "display_data",
          "data": {
            "image/png": "[encoded data removed]",
            "text/plain": [
              "<Figure size 432x288 with 1 Axes>"
            ]
          },
          "metadata": {
            "tags": []
          }
        }
      ]
    },
    {
      "cell_type": "code",
      "metadata": {
        "id": "LgoMbisNDU7G",
        "colab_type": "code",
        "colab": {}
      },
      "source": [
        "torch.save(glasses_classificator.state_dict(), '/content/dropout_conv_train_lenet_100_eph.pt')"
      ],
      "execution_count": 0,
      "outputs": []
    },
    {
      "cell_type": "code",
      "metadata": {
        "colab_type": "code",
        "outputId": "7de6578a-f19d-4cf4-81ee-648b1786a239",
        "id": "IZQ_BTASJUat",
        "colab": {
          "base_uri": "https://localhost:8080/",
          "height": 243
        }
      },
      "source": [
        "glasses_classificator.eval()\n",
        "for i, (x, y) in enumerate(load_dataset()):\n",
        "    if i == 10:\n",
        "        break\n",
        "    _image = np.array(x[0])\n",
        "    image = torch.from_numpy(_image)\n",
        "    image = image.permute(1,2,0)\n",
        "    plt.subplot(1, 10, i+1)\n",
        "    plt.grid(False)\n",
        "    plt.imshow(image)\n",
        "    plt.axis('off')\n",
        "    value, indices = torch.max(glasses_classificator(x), 1)\n",
        "    print(indices.item(),y.item())"
      ],
      "execution_count": 0,
      "outputs": [
        {
          "output_type": "stream",
          "text": [
            "0 0\n",
            "0 0\n",
            "0 0\n",
            "1 1\n",
            "0 0\n",
            "0 0\n",
            "1 1\n",
            "1 1\n",
            "1 1\n",
            "0 0\n"
          ],
          "name": "stdout"
        },
        {
          "output_type": "display_data",
          "data": {
            "image/png": "[encoded data removed]",
            "text/plain": [
              "<Figure size 432x288 with 10 Axes>"
            ]
          },
          "metadata": {
            "tags": []
          }
        }
      ]
    }
  ]
}